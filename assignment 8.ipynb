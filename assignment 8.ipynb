{
 "cells": [
  {
   "cell_type": "markdown",
   "id": "6c68d924-f3de-4472-87c2-1b8d7d1d5cb3",
   "metadata": {},
   "source": [
    "1. What is the role of try and exception block?\n",
    "\n",
    "ANS:The try and except block are used to handle the error.The try block contains the code that might raise an exception,and the exception block contains the code that will be executed if an exception is raised.In an simple word the try block is used to check some code for errors, and the code inside the try block will execute when there is no error in the program. The code inside the except block will execute whenever the program encounters some error in the preceding try block.We can have multiple except blocks to handle different type of eceptions:\n",
    "\n",
    "The else block allows you run code without errors.\n",
    "\n",
    "The finally block executes code regardless of the try-and-except blocks.\n",
    "\n",
    "Use the raise keyword to throw (or raise) an exception."
   ]
  },
  {
   "cell_type": "raw",
   "id": "a3e3dc42-5ffd-4618-be84-a01b8ee9fd03",
   "metadata": {},
   "source": [
    "2. What is the syntax for a basic try-except block?\n",
    "\n",
    "ANS:\n",
    "try:\n",
    "    # code that might raise an exception\n",
    "except ExceptionType:\n",
    "    # code that executes if an exception of type ExceptionType is raised"
   ]
  },
  {
   "cell_type": "code",
   "execution_count": 1,
   "id": "544fb36c-523e-48cd-afc5-18fa5c0b70d9",
   "metadata": {},
   "outputs": [
    {
     "name": "stdout",
     "output_type": "stream",
     "text": [
      "Some issue with x\n"
     ]
    }
   ],
   "source": [
    "# try raise an exception bec x is not defined\n",
    "try:\n",
    "  print(x)\n",
    "except:\n",
    "  print(\"Some issue with x\")"
   ]
  },
  {
   "cell_type": "markdown",
   "id": "8785aaf2-e2a1-41a0-8033-e0c77023c4f5",
   "metadata": {},
   "source": [
    "3. What happens if an exception occurs inside a try block and there is no matching\n",
    "except block?\n",
    "\n",
    "ANS: If an exception occurs inside a try block and there is no matching except block, then the program will throw an error message.The error message will indicate that the exception occured and there is no matching except block to handle it.If there is a final block, then only the program will be executed."
   ]
  },
  {
   "cell_type": "markdown",
   "id": "5dc15cb6-4a96-4418-94d0-14c0a6f81a5b",
   "metadata": {},
   "source": [
    "4. What is the difference between using a bare except block and specifying a specific\n",
    "exception type?\n",
    "\n",
    "ANS:The difference between using a bare except block and specifying a specific exception is that bare except block can catch any and all kind of exception that inherit from the base exception that sit at the top of the exception hierarchy.On the other hand the specifying an exception type will catch only specific exception or anything that inherits from it."
   ]
  },
  {
   "cell_type": "markdown",
   "id": "ad8a0ca5-c0df-4a00-9463-41ef42bbe48f",
   "metadata": {},
   "source": [
    "5. Can you have nested try-except blocks in Python? If yes, then give an example.\n",
    "\n",
    "ANS:Yes, we can have nested try-except blocks in pyhton.\n",
    "    "
   ]
  },
  {
   "cell_type": "code",
   "execution_count": 3,
   "id": "232343ef-8c0c-41b7-ad19-de2df1dd2386",
   "metadata": {},
   "outputs": [
    {
     "name": "stdout",
     "output_type": "stream",
     "text": [
      "Hello\n",
      "Inner finally block\n",
      "Outer finally block\n"
     ]
    }
   ],
   "source": [
    "try:          #outer try-except block\n",
    "    try:       #inner try-except block\n",
    "        print(\"Hello\")\n",
    "    except:\n",
    "        print(\"Inner except block\")\n",
    "    finally:\n",
    "        print(\"Inner finally block\")\n",
    "except:\n",
    "    print(\"Outer except block\")\n",
    "finally:\n",
    "    print(\"Outer finally block\")"
   ]
  },
  {
   "cell_type": "markdown",
   "id": "dc58d5e9-81ca-45d6-ace1-fb30c1479b4d",
   "metadata": {},
   "source": [
    "6. Can we use multiple exception blocks, if yes then give an example.\n",
    "\n",
    "ANS: Yes, we can use multiple exception blocks"
   ]
  },
  {
   "cell_type": "code",
   "execution_count": 11,
   "id": "4131e66f-a99f-4f0b-b2ee-7a8713f311e4",
   "metadata": {},
   "outputs": [
    {
     "name": "stdin",
     "output_type": "stream",
     "text": [
      "enter the first number 9\n",
      "enter the second number 6\n"
     ]
    },
    {
     "name": "stdout",
     "output_type": "stream",
     "text": [
      "result: 1.5\n"
     ]
    }
   ],
   "source": [
    "#multiple exceptions\n",
    "try:\n",
    "    n =int(input(\"enter the first number\"))\n",
    "    d =int(input(\"enter the second number\"))\n",
    "    result = n / d\n",
    "    print(\"result:\",result)\n",
    "\n",
    "except ValueError:\n",
    "    print(\"please enter correct value\")\n",
    "except ZeroDivisionError:\n",
    "    print(\"division by zero is not valid\")\n"
   ]
  },
  {
   "cell_type": "markdown",
   "id": "691e6edb-b595-4fd6-bc5c-d7cf58eb5117",
   "metadata": {},
   "source": [
    "7. Write the reason due to which following errors are raised:\n",
    "a. EOFError\n",
    "b. FloatingPointError\n",
    "c. IndexError\n",
    "d. MemoryError\n",
    "e. OverflowError\n",
    "f. TabError\n",
    "g. ValueError\n",
    "\n",
    "ANS:a. EOFError: EOFError is raised when input() function hits an end-of-file condition (EOF)\n",
    "\n",
    "b.FloatingPointError: is raised when the floating point operation fails.\n",
    "\n",
    "c. IndexError:Raised when a sequence subscript (index) is out of range.\n",
    "\n",
    "d.MemoryError:Raised when an operation runs out of memory.\n",
    "\n",
    "e.OverflowError:Raised when the result of an arithmetic operation is too large to be expressed.\n",
    "\n",
    "f.TabError: Raised when indentation contains mixed tabs and spaces.\n",
    "\n",
    "g.ValueError:Raised when a built-in operation or function receives an argument that has the right type but an inappropriate value."
   ]
  },
  {
   "cell_type": "markdown",
   "id": "4361e174-646a-461e-82a1-16e2cf9fb4e4",
   "metadata": {},
   "source": [
    "8. Write code for the following given scenario and add try-exception block to it.\n",
    "\n",
    "a. Program to divide two numbers\n",
    "\n",
    "b. Program to convert a string to an integer\n",
    "\n",
    "c. Program to access an element in a list\n",
    "\n",
    "d. Program to handle a specific exception\n",
    "\n",
    "e. Program to handle any exception"
   ]
  },
  {
   "cell_type": "code",
   "execution_count": 19,
   "id": "72b31262-e178-4807-b229-c7f1e737d504",
   "metadata": {},
   "outputs": [
    {
     "name": "stdin",
     "output_type": "stream",
     "text": [
      "Enter the first number 16\n",
      "Enter the second number 8\n"
     ]
    },
    {
     "name": "stdout",
     "output_type": "stream",
     "text": [
      "Result: 2.0\n"
     ]
    }
   ],
   "source": [
    "#a. program to divide two numbers\n",
    "try:\n",
    "    f=int(input(\"Enter the first number\"))\n",
    "    g=int(input(\"Enter the second number\"))\n",
    "     \n",
    "    \n",
    "    result= f / g\n",
    "    print(\"Result:\",result)\n",
    "    \n",
    "except ZeroDivisionError:\n",
    "        print(\"ERROR: Division by zero is not valid\")\n",
    "    "
   ]
  },
  {
   "cell_type": "code",
   "execution_count": 22,
   "id": "2da03347-69ec-4730-b175-66cf8a8716e1",
   "metadata": {},
   "outputs": [
    {
     "name": "stdin",
     "output_type": "stream",
     "text": [
      "Enter a number:  123\n"
     ]
    },
    {
     "name": "stdout",
     "output_type": "stream",
     "text": [
      "Number is: 123\n"
     ]
    }
   ],
   "source": [
    "#b. program to convert a string to an integer\n",
    "\n",
    "try:\n",
    "    num = int(input(\"Enter a number: \"))\n",
    "    print(\"Number is:\", num)\n",
    "except ValueError:\n",
    "    print(\"Error: Invalid input\")\n"
   ]
  },
  {
   "cell_type": "code",
   "execution_count": 26,
   "id": "7a3a6955-d20d-48cf-882f-ad8501e5e763",
   "metadata": {},
   "outputs": [
    {
     "name": "stdin",
     "output_type": "stream",
     "text": [
      "Enter index:  1\n"
     ]
    },
    {
     "name": "stdout",
     "output_type": "stream",
     "text": [
      "Element is: mobile\n"
     ]
    }
   ],
   "source": [
    "#c.program to access an element in a list\n",
    "\n",
    "try:\n",
    "    \n",
    "    my_list = [\"Telephone\",\"mobile\",\"laptop\"]\n",
    "    index = int(input(\"Enter index: \"))\n",
    "    print(\"Element is:\", my_list[index])\n",
    "except IndexError:\n",
    "    print(\"Error: Index out of range\")"
   ]
  },
  {
   "cell_type": "code",
   "execution_count": 28,
   "id": "e32ebafd-4b25-4d0f-9f78-6ebd91b0395b",
   "metadata": {},
   "outputs": [
    {
     "name": "stdin",
     "output_type": "stream",
     "text": [
      "Enter a number between 1 and 10:  9\n"
     ]
    }
   ],
   "source": [
    "#d. Program to handle a specific exception\n",
    "\n",
    "try:\n",
    "    x = int(input(\"Enter a number between 1 and 10: \"))\n",
    "    if x < 1 or x > 10:\n",
    "        raise ValueError(\"Number must be between 1 and 10\")\n",
    "except ValueError :\n",
    "    print(\"inappropriate value\")\n"
   ]
  },
  {
   "cell_type": "code",
   "execution_count": 40,
   "id": "bf556052-7687-4d5e-a217-a894f3920d06",
   "metadata": {},
   "outputs": [
    {
     "name": "stdout",
     "output_type": "stream",
     "text": [
      "can only concatenate str (not \"int\") to str\n"
     ]
    }
   ],
   "source": [
    "try:\n",
    "    x = \"10\"  # Assigning a string value to the variable x\n",
    "    y = 2\n",
    "\n",
    "    z = x + y  # Attempt addition between a string and an integer\n",
    "\n",
    "    print(\"Result:\", z)\n",
    "\n",
    "except Exception as e:\n",
    "    print(e)"
   ]
  },
  {
   "cell_type": "code",
   "execution_count": null,
   "id": "decf28d5-c787-4072-9f8b-b28f177e7102",
   "metadata": {},
   "outputs": [],
   "source": []
  }
 ],
 "metadata": {
  "kernelspec": {
   "display_name": "Python 3 (ipykernel)",
   "language": "python",
   "name": "python3"
  },
  "language_info": {
   "codemirror_mode": {
    "name": "ipython",
    "version": 3
   },
   "file_extension": ".py",
   "mimetype": "text/x-python",
   "name": "python",
   "nbconvert_exporter": "python",
   "pygments_lexer": "ipython3",
   "version": "3.10.6"
  }
 },
 "nbformat": 4,
 "nbformat_minor": 5
}
